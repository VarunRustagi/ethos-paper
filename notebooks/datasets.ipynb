{
 "cells": [
  {
   "cell_type": "code",
   "execution_count": 1,
   "outputs": [],
   "source": [
    "%load_ext autoreload\n",
    "%autoreload 2"
   ],
   "metadata": {
    "collapsed": false,
    "ExecuteTime": {
     "end_time": "2024-02-27T00:05:57.456491380Z",
     "start_time": "2024-02-27T00:05:57.438747127Z"
    }
   }
  },
  {
   "cell_type": "code",
   "execution_count": 2,
   "outputs": [
    {
     "data": {
      "text/plain": "'Number of instances: 43,309'"
     },
     "execution_count": 2,
     "metadata": {},
     "output_type": "execute_result"
    }
   ],
   "source": [
    "from torch.utils.data import DataLoader\n",
    "\n",
    "from ethos.constants import PROJECT_DATA\n",
    "from ethos.datasets import AdmissionMortalityDataset\n",
    "from ethos.tokenize import Vocabulary\n",
    "from ethos.utils import load_data\n",
    "\n",
    "data_dir = PROJECT_DATA / \"tokenized_datasets\"\n",
    "\n",
    "vocab = Vocabulary(data_dir / \"mimic_vocab_t4367.pkl\")\n",
    "decode = vocab.decode\n",
    "\n",
    "data = load_data(data_dir / \"mimic_test_timelines_p26758.hdf5\")\n",
    "dataset = AdmissionMortalityDataset(data, vocab.encode, 2048)\n",
    "loader = iter(DataLoader(dataset, batch_size=None, batch_sampler=None))\n",
    "f\"Number of instances: {len(dataset):,}\""
   ],
   "metadata": {
    "collapsed": false,
    "ExecuteTime": {
     "end_time": "2024-02-27T00:06:00.765366734Z",
     "start_time": "2024-02-27T00:05:57.438884890Z"
    }
   }
  },
  {
   "cell_type": "code",
   "execution_count": 3,
   "outputs": [
    {
     "data": {
      "text/plain": "(array(['SEX_M', 'RACE_WHITE', 'MARITAL_MARRIED', '_Q7', '_55-60y',\n        '_40-45y', 'ED_ADMISSION_START', '_15m-1h',\n        'LAB_Alanine Aminotransferase (ALT)_IU/L', '_Q7',\n        'LAB_Alkaline Phosphatase_IU/L', '_Q2', 'LAB_Anion Gap_mEq/L',\n        '_Q8', 'LAB_Asparate Aminotransferase (AST)_IU/L', '_Q8',\n        'LAB_Bicarbonate_mEq/L', '_Q3', 'LAB_Bilirubin, Total_mg/dL',\n        '_Q6', 'LAB_Chloride_mEq/L', '_Q3', 'LAB_CK-MB Index_%', '_Q6',\n        'LAB_Creatine Kinase (CK)_IU/L', '_Q9',\n        'LAB_Creatine Kinase, MB Isoenzyme_ng/mL', '_Q8',\n        'LAB_Creatinine_mg/dL', '_Q3', 'LAB_Glucose_mg/dL', '_Q8',\n        'LAB_Lipase_IU/L', '_Q7', 'LAB_Potassium_mEq/L', '_Q6',\n        'LAB_Sodium_mEq/L', '_Q2', 'LAB_Urea Nitrogen_mg/dL', '_Q5',\n        'LAB_Troponin T_ng/mL', '_Q9', 'LAB_Basophils_%', '_Q4',\n        'LAB_Eosinophils_%', '_Q4', 'LAB_Hematocrit_%', '_Q8',\n        'LAB_Hemoglobin_g/dL', '_Q9', 'LAB_Lymphocytes_%', '_Q5',\n        'LAB_MCH_pg', '_Q8', 'LAB_MCHC_%', '_Q10', 'LAB_MCV_fL', '_Q3',\n        'LAB_Monocytes_%', '_Q4', 'LAB_Neutrophils_%', '_Q7',\n        'LAB_Platelet Count_K/uL', '_Q7', 'LAB_RDW_%', '_Q1',\n        'LAB_Red Blood Cells_m/uL', '_Q8', 'LAB_Sedimentation Rate_mm/hr',\n        '_Q7', 'LAB_White Blood Cells_K/uL', '_Q7', '_5m-15m',\n        'LAB_Lactate_mmol/L', '_Q5', '_1h-2h', 'INPATIENT_ADMISSION_START'],\n       dtype=object),\n {'expected': 227,\n  'true_token_dist': 155,\n  'true_token_time': 0.006229400634765625,\n  'patient_id': 11593131,\n  'patient_age': 58.60683059692383,\n  'admission_token_idx': 130,\n  'year': 2011.6068115234375})"
     },
     "execution_count": 3,
     "metadata": {},
     "output_type": "execute_result"
    }
   ],
   "source": [
    "timeline, y = dataset[0]\n",
    "decode(timeline[:]), y"
   ],
   "metadata": {
    "collapsed": false,
    "ExecuteTime": {
     "end_time": "2024-02-27T00:06:00.807521186Z",
     "start_time": "2024-02-27T00:06:00.767719199Z"
    }
   }
  },
  {
   "cell_type": "code",
   "execution_count": 4,
   "outputs": [
    {
     "data": {
      "text/plain": "(['_Q5',\n  'LAB_tacroFK_ng/mL',\n  '_Q9',\n  '_6h-12h',\n  'INPATIENT_ADMISSION_END',\n  '_Q10',\n  'DISCHARGED_HOSPICE',\n  'DISORDERS OF LIVER EXCEPT MALIG,CIRR,ALC HEPA W MCC',\n  '_1d-3d',\n  'INPATIENT_ADMISSION_START'],\n 2048,\n '_DEATH')"
     },
     "execution_count": 4,
     "metadata": {},
     "output_type": "execute_result"
    }
   ],
   "source": [
    "timeline, y = next(loader)\n",
    "while decode(y[\"expected\"]) != \"_DEATH\":\n",
    "    timeline, y = next(loader)\n",
    "list(decode(timeline[-10:])), len(timeline), decode(y[\"expected\"])"
   ],
   "metadata": {
    "collapsed": false,
    "ExecuteTime": {
     "end_time": "2024-02-27T00:06:00.844170537Z",
     "start_time": "2024-02-27T00:06:00.794999264Z"
    }
   }
  }
 ],
 "metadata": {
  "kernelspec": {
   "display_name": "Python 3",
   "language": "python",
   "name": "python3"
  },
  "language_info": {
   "codemirror_mode": {
    "name": "ipython",
    "version": 2
   },
   "file_extension": ".py",
   "mimetype": "text/x-python",
   "name": "python",
   "nbconvert_exporter": "python",
   "pygments_lexer": "ipython2",
   "version": "2.7.6"
  }
 },
 "nbformat": 4,
 "nbformat_minor": 0
}
